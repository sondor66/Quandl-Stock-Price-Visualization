{
 "cells": [
  {
   "cell_type": "markdown",
   "metadata": {},
   "source": [
    "In this notebook, I will show you how to get stock prices from Quandl in different ways and plot the stock price using Matplotlib,Bokeh and Plotly."
   ]
  },
  {
   "cell_type": "markdown",
   "metadata": {},
   "source": [
    "#### 1.Installing required libraries"
   ]
  },
  {
   "cell_type": "code",
   "execution_count": 3,
   "metadata": {},
   "outputs": [
    {
     "name": "stdout",
     "output_type": "stream",
     "text": [
      "Requirement already satisfied: requests in ./anaconda3/lib/python3.7/site-packages (2.19.1)\n",
      "Requirement already satisfied: certifi>=2017.4.17 in ./anaconda3/lib/python3.7/site-packages (from requests) (2018.8.24)\n",
      "Requirement already satisfied: idna<2.8,>=2.5 in ./anaconda3/lib/python3.7/site-packages (from requests) (2.7)\n",
      "Requirement already satisfied: urllib3<1.24,>=1.21.1 in ./anaconda3/lib/python3.7/site-packages (from requests) (1.23)\n",
      "Requirement already satisfied: chardet<3.1.0,>=3.0.2 in ./anaconda3/lib/python3.7/site-packages (from requests) (3.0.4)\n",
      "\u001b[31mtwisted 18.7.0 requires PyHamcrest>=1.9.0, which is not installed.\u001b[0m\n",
      "\u001b[33mYou are using pip version 10.0.1, however version 19.3.1 is available.\n",
      "You should consider upgrading via the 'pip install --upgrade pip' command.\u001b[0m\n"
     ]
    }
   ],
   "source": [
    "! pip install requests"
   ]
  },
  {
   "cell_type": "code",
   "execution_count": 5,
   "metadata": {},
   "outputs": [
    {
     "name": "stdout",
     "output_type": "stream",
     "text": [
      "Collecting quandl\n",
      "  Downloading https://files.pythonhosted.org/packages/12/64/6314547cb01fa75697ddba6d6d43a9f1d023c1730ffc6abf3db7a0c89222/Quandl-3.4.8-py2.py3-none-any.whl\n",
      "Collecting inflection>=0.3.1 (from quandl)\n",
      "  Downloading https://files.pythonhosted.org/packages/d5/35/a6eb45b4e2356fe688b21570864d4aa0d0a880ce387defe9c589112077f8/inflection-0.3.1.tar.gz\n",
      "Requirement already satisfied: six in ./anaconda3/lib/python3.7/site-packages (from quandl) (1.11.0)\n",
      "Requirement already satisfied: more-itertools<=5.0.0 in ./anaconda3/lib/python3.7/site-packages (from quandl) (4.3.0)\n",
      "Requirement already satisfied: pyOpenSSL in ./anaconda3/lib/python3.7/site-packages (from quandl) (18.0.0)\n",
      "Requirement already satisfied: pandas>=0.14 in ./anaconda3/lib/python3.7/site-packages (from quandl) (0.23.4)\n",
      "Requirement already satisfied: python-dateutil in ./anaconda3/lib/python3.7/site-packages (from quandl) (2.7.3)\n",
      "Requirement already satisfied: numpy>=1.8 in ./anaconda3/lib/python3.7/site-packages (from quandl) (1.15.1)\n",
      "Requirement already satisfied: requests>=2.7.0 in ./anaconda3/lib/python3.7/site-packages (from quandl) (2.19.1)\n",
      "Requirement already satisfied: pyasn1 in ./anaconda3/lib/python3.7/site-packages (from quandl) (0.4.4)\n",
      "Collecting ndg-httpsclient (from quandl)\n",
      "  Downloading https://files.pythonhosted.org/packages/fb/67/c2f508c00ed2a6911541494504b7cac16fe0b0473912568df65fd1801132/ndg_httpsclient-0.5.1-py3-none-any.whl\n",
      "Requirement already satisfied: cryptography>=2.2.1 in ./anaconda3/lib/python3.7/site-packages (from pyOpenSSL->quandl) (2.3.1)\n",
      "Requirement already satisfied: pytz>=2011k in ./anaconda3/lib/python3.7/site-packages (from pandas>=0.14->quandl) (2018.5)\n",
      "Requirement already satisfied: chardet<3.1.0,>=3.0.2 in ./anaconda3/lib/python3.7/site-packages (from requests>=2.7.0->quandl) (3.0.4)\n",
      "Requirement already satisfied: idna<2.8,>=2.5 in ./anaconda3/lib/python3.7/site-packages (from requests>=2.7.0->quandl) (2.7)\n",
      "Requirement already satisfied: certifi>=2017.4.17 in ./anaconda3/lib/python3.7/site-packages (from requests>=2.7.0->quandl) (2018.8.24)\n",
      "Requirement already satisfied: urllib3<1.24,>=1.21.1 in ./anaconda3/lib/python3.7/site-packages (from requests>=2.7.0->quandl) (1.23)\n",
      "Requirement already satisfied: asn1crypto>=0.21.0 in ./anaconda3/lib/python3.7/site-packages (from cryptography>=2.2.1->pyOpenSSL->quandl) (0.24.0)\n",
      "Requirement already satisfied: cffi!=1.11.3,>=1.7 in ./anaconda3/lib/python3.7/site-packages (from cryptography>=2.2.1->pyOpenSSL->quandl) (1.11.5)\n",
      "Requirement already satisfied: pycparser in ./anaconda3/lib/python3.7/site-packages (from cffi!=1.11.3,>=1.7->cryptography>=2.2.1->pyOpenSSL->quandl) (2.18)\n",
      "Building wheels for collected packages: inflection\n",
      "  Running setup.py bdist_wheel for inflection ... \u001b[?25ldone\n",
      "\u001b[?25h  Stored in directory: /Users/derichong/Library/Caches/pip/wheels/9f/5a/d3/6fc3bf6516d2a3eb7e18f9f28b472110b59325f3f258fe9211\n",
      "Successfully built inflection\n",
      "\u001b[31mtwisted 18.7.0 requires PyHamcrest>=1.9.0, which is not installed.\u001b[0m\n",
      "Installing collected packages: inflection, ndg-httpsclient, quandl\n",
      "Successfully installed inflection-0.3.1 ndg-httpsclient-0.5.1 quandl-3.4.8\n",
      "\u001b[33mYou are using pip version 10.0.1, however version 19.3.1 is available.\n",
      "You should consider upgrading via the 'pip install --upgrade pip' command.\u001b[0m\n"
     ]
    }
   ],
   "source": [
    "! pip install quandl"
   ]
  },
  {
   "cell_type": "markdown",
   "metadata": {},
   "source": [
    "#### 2.Getting Data from Quandl"
   ]
  },
  {
   "cell_type": "code",
   "execution_count": 16,
   "metadata": {},
   "outputs": [
    {
     "data": {
      "text/html": [
       "<div>\n",
       "<style scoped>\n",
       "    .dataframe tbody tr th:only-of-type {\n",
       "        vertical-align: middle;\n",
       "    }\n",
       "\n",
       "    .dataframe tbody tr th {\n",
       "        vertical-align: top;\n",
       "    }\n",
       "\n",
       "    .dataframe thead th {\n",
       "        text-align: right;\n",
       "    }\n",
       "</style>\n",
       "<table border=\"1\" class=\"dataframe\">\n",
       "  <thead>\n",
       "    <tr style=\"text-align: right;\">\n",
       "      <th></th>\n",
       "      <th>ticker</th>\n",
       "      <th>date</th>\n",
       "      <th>adj_close</th>\n",
       "    </tr>\n",
       "    <tr>\n",
       "      <th>None</th>\n",
       "      <th></th>\n",
       "      <th></th>\n",
       "      <th></th>\n",
       "    </tr>\n",
       "  </thead>\n",
       "  <tbody>\n",
       "    <tr>\n",
       "      <th>0</th>\n",
       "      <td>ZUMZ</td>\n",
       "      <td>2017-12-29</td>\n",
       "      <td>20.825</td>\n",
       "    </tr>\n",
       "    <tr>\n",
       "      <th>1</th>\n",
       "      <td>ZUMZ</td>\n",
       "      <td>2017-12-28</td>\n",
       "      <td>21.200</td>\n",
       "    </tr>\n",
       "    <tr>\n",
       "      <th>2</th>\n",
       "      <td>ZUMZ</td>\n",
       "      <td>2017-12-27</td>\n",
       "      <td>21.150</td>\n",
       "    </tr>\n",
       "    <tr>\n",
       "      <th>3</th>\n",
       "      <td>ZUMZ</td>\n",
       "      <td>2017-12-26</td>\n",
       "      <td>21.850</td>\n",
       "    </tr>\n",
       "    <tr>\n",
       "      <th>4</th>\n",
       "      <td>ZUMZ</td>\n",
       "      <td>2017-12-22</td>\n",
       "      <td>21.450</td>\n",
       "    </tr>\n",
       "  </tbody>\n",
       "</table>\n",
       "</div>"
      ],
      "text/plain": [
       "     ticker       date  adj_close\n",
       "None                             \n",
       "0      ZUMZ 2017-12-29     20.825\n",
       "1      ZUMZ 2017-12-28     21.200\n",
       "2      ZUMZ 2017-12-27     21.150\n",
       "3      ZUMZ 2017-12-26     21.850\n",
       "4      ZUMZ 2017-12-22     21.450"
      ]
     },
     "execution_count": 16,
     "metadata": {},
     "output_type": "execute_result"
    }
   ],
   "source": [
    "import quandl\n",
    "quandl.ApiConfig.api_key = 'PQqYzRyDSiEk2WNX-7E7'\n",
    "# get the table for daily stock prices and,\n",
    "# filter the table for selected tickers, columns within a time range\n",
    "# set paginate to True because Quandl limits tables API to 10,000 rows per call\n",
    "\n",
    "data = quandl.get_table('WIKI/PRICES', ticker = ['AAPL', 'MSFT', 'WMT','ZUMZ','GOOG'], \n",
    "                        qopts = { 'columns': ['ticker', 'date', 'adj_close'] }, \n",
    "                        date = { 'gte': '2017-01-01', 'lte': '2017-12-31' }, \n",
    "                        paginate=True)\n",
    "data.head()"
   ]
  },
  {
   "cell_type": "code",
   "execution_count": 18,
   "metadata": {},
   "outputs": [
    {
     "data": {
      "text/html": [
       "<div>\n",
       "<style scoped>\n",
       "    .dataframe tbody tr th:only-of-type {\n",
       "        vertical-align: middle;\n",
       "    }\n",
       "\n",
       "    .dataframe tbody tr th {\n",
       "        vertical-align: top;\n",
       "    }\n",
       "\n",
       "    .dataframe thead tr th {\n",
       "        text-align: left;\n",
       "    }\n",
       "\n",
       "    .dataframe thead tr:last-of-type th {\n",
       "        text-align: right;\n",
       "    }\n",
       "</style>\n",
       "<table border=\"1\" class=\"dataframe\">\n",
       "  <thead>\n",
       "    <tr>\n",
       "      <th></th>\n",
       "      <th colspan=\"5\" halign=\"left\">adj_close</th>\n",
       "    </tr>\n",
       "    <tr>\n",
       "      <th>ticker</th>\n",
       "      <th>AAPL</th>\n",
       "      <th>GOOG</th>\n",
       "      <th>MSFT</th>\n",
       "      <th>WMT</th>\n",
       "      <th>ZUMZ</th>\n",
       "    </tr>\n",
       "    <tr>\n",
       "      <th>date</th>\n",
       "      <th></th>\n",
       "      <th></th>\n",
       "      <th></th>\n",
       "      <th></th>\n",
       "      <th></th>\n",
       "    </tr>\n",
       "  </thead>\n",
       "  <tbody>\n",
       "    <tr>\n",
       "      <th>2017-01-03</th>\n",
       "      <td>114.715378</td>\n",
       "      <td>786.14</td>\n",
       "      <td>61.219142</td>\n",
       "      <td>67.291215</td>\n",
       "      <td>22.00</td>\n",
       "    </tr>\n",
       "    <tr>\n",
       "      <th>2017-01-04</th>\n",
       "      <td>114.586983</td>\n",
       "      <td>786.90</td>\n",
       "      <td>60.945231</td>\n",
       "      <td>67.683241</td>\n",
       "      <td>22.75</td>\n",
       "    </tr>\n",
       "    <tr>\n",
       "      <th>2017-01-05</th>\n",
       "      <td>115.169696</td>\n",
       "      <td>794.02</td>\n",
       "      <td>60.945231</td>\n",
       "      <td>67.830251</td>\n",
       "      <td>20.60</td>\n",
       "    </tr>\n",
       "    <tr>\n",
       "      <th>2017-01-06</th>\n",
       "      <td>116.453639</td>\n",
       "      <td>806.15</td>\n",
       "      <td>61.473488</td>\n",
       "      <td>66.899190</td>\n",
       "      <td>19.85</td>\n",
       "    </tr>\n",
       "    <tr>\n",
       "      <th>2017-01-09</th>\n",
       "      <td>117.520300</td>\n",
       "      <td>806.65</td>\n",
       "      <td>61.277837</td>\n",
       "      <td>67.340219</td>\n",
       "      <td>19.95</td>\n",
       "    </tr>\n",
       "  </tbody>\n",
       "</table>\n",
       "</div>"
      ],
      "text/plain": [
       "             adj_close                                     \n",
       "ticker            AAPL    GOOG       MSFT        WMT   ZUMZ\n",
       "date                                                       \n",
       "2017-01-03  114.715378  786.14  61.219142  67.291215  22.00\n",
       "2017-01-04  114.586983  786.90  60.945231  67.683241  22.75\n",
       "2017-01-05  115.169696  794.02  60.945231  67.830251  20.60\n",
       "2017-01-06  116.453639  806.15  61.473488  66.899190  19.85\n",
       "2017-01-09  117.520300  806.65  61.277837  67.340219  19.95"
      ]
     },
     "execution_count": 18,
     "metadata": {},
     "output_type": "execute_result"
    }
   ],
   "source": [
    "new = data.set_index('date')\n",
    "# use pandas pivot function to sort adj_close by tickers\n",
    "clean_data = new.pivot(columns='ticker')\n",
    "# check the head of the output\n",
    "clean_data.head()"
   ]
  },
  {
   "cell_type": "code",
   "execution_count": 138,
   "metadata": {},
   "outputs": [
    {
     "data": {
      "text/plain": [
       "DatetimeIndex(['2017-01-03', '2017-01-04', '2017-01-05', '2017-01-06',\n",
       "               '2017-01-09', '2017-01-10', '2017-01-11', '2017-01-12',\n",
       "               '2017-01-13', '2017-01-17',\n",
       "               ...\n",
       "               '2017-12-15', '2017-12-18', '2017-12-19', '2017-12-20',\n",
       "               '2017-12-21', '2017-12-22', '2017-12-26', '2017-12-27',\n",
       "               '2017-12-28', '2017-12-29'],\n",
       "              dtype='datetime64[ns]', name='date', length=250, freq=None)"
      ]
     },
     "execution_count": 138,
     "metadata": {},
     "output_type": "execute_result"
    }
   ],
   "source": [
    "clean_data.index"
   ]
  },
  {
   "cell_type": "markdown",
   "metadata": {},
   "source": [
    "#### 3. Data Visualization "
   ]
  },
  {
   "cell_type": "markdown",
   "metadata": {},
   "source": [
    "##### 3.1 Using Matplotlib"
   ]
  },
  {
   "cell_type": "code",
   "execution_count": 150,
   "metadata": {},
   "outputs": [
    {
     "data": {
      "text/plain": [
       "<matplotlib.axes._subplots.AxesSubplot at 0x11d401f60>"
      ]
     },
     "execution_count": 150,
     "metadata": {},
     "output_type": "execute_result"
    },
    {
     "data": {
      "image/png": "[encoded data removed]",
      "text/plain": [
       "<Figure size 432x288 with 1 Axes>"
      ]
     },
     "metadata": {
      "needs_background": "light"
     },
     "output_type": "display_data"
    }
   ],
   "source": [
    "%matplotlib inline\n",
    "clean_data['adj_close']['GOOG'].plot()"
   ]
  },
  {
   "cell_type": "markdown",
   "metadata": {},
   "source": [
    "##### 3.2 Using Bokeh\n",
    "* When you run the code below, the plot will be shown in a new webpage."
   ]
  },
  {
   "cell_type": "code",
   "execution_count": 131,
   "metadata": {},
   "outputs": [],
   "source": [
    "import numpy as np\n",
    "from bokeh.plotting import figure, output_file, show"
   ]
  },
  {
   "cell_type": "code",
   "execution_count": 647,
   "metadata": {},
   "outputs": [],
   "source": [
    "# prepare some data\n",
    "goog = np.array(clean_data['adj_close']['GOOG'])\n",
    "goog_dates = np.array(clean_data.index)\n",
    "window_size = 30\n",
    "window = np.ones(window_size)/float(window_size)\n",
    "goog_avg = np.convolve(aapl, window, 'same')\n",
    "\n",
    "# output to static HTML file\n",
    "#output_file(\"stocks.html\", title=\"stocks.py example\")\n",
    "\n",
    "# create a new plot with a a datetime axis type\n",
    "p = figure(width=800, height=350, x_axis_type=\"datetime\")\n",
    "\n",
    "# add renderers\n",
    "p.circle(goog_dates, goog_avg, size=4, color='darkgrey', alpha=0.3, legend='monthly-avg')\n",
    "p.line(aapl_dates, aapl, color='blue', legend='daily-adjusted')\n",
    "\n",
    "# NEW: customize by setting attributes\n",
    "p.title.text = \"GOOG One-Month Average\"\n",
    "p.legend.location = \"top_left\"\n",
    "p.grid.grid_line_alpha=0\n",
    "p.xaxis.axis_label = 'Date'\n",
    "p.yaxis.axis_label = 'Price'\n",
    "p.ygrid.band_fill_color=\"olive\"\n",
    "p.ygrid.band_fill_alpha = 0.1\n",
    "\n",
    "# show the results\n",
    "show(p)"
   ]
  },
  {
   "cell_type": "markdown",
   "metadata": {},
   "source": [
    "##### 3.3 Using Plotly\n",
    "* When you run the code below, the plot will be shown in a new webpage."
   ]
  },
  {
   "cell_type": "code",
   "execution_count": 648,
   "metadata": {},
   "outputs": [
    {
     "data": {
      "text/plain": [
       "'temp-plot.html'"
      ]
     },
     "execution_count": 648,
     "metadata": {},
     "output_type": "execute_result"
    }
   ],
   "source": [
    "import plotly\n",
    "import plotly.graph_objs as go\n",
    "import pandas as pd\n",
    "\n",
    "price = [go.Scatter(\n",
    "          x=clean_data.index,\n",
    "          y=clean_data['adj_close']['AAPL'])]\n",
    "\n",
    "plotly.offline.plot(price)"
   ]
  },
  {
   "cell_type": "markdown",
   "metadata": {},
   "source": [
    "#### 4. Different Way of Extracting Stock Prices From Quandl (Using json file)"
   ]
  },
  {
   "cell_type": "code",
   "execution_count": 3,
   "metadata": {},
   "outputs": [],
   "source": [
    "import requests\n",
    "url = 'https://www.quandl.com/api/v1/datasets/WIKI/GOOG.json?api_key=PQqYzRyDSiEk2WNX-7E7'\n",
    "r = requests.get(url)\n",
    "a = r.json()"
   ]
  },
  {
   "cell_type": "code",
   "execution_count": 651,
   "metadata": {},
   "outputs": [],
   "source": [
    "df1 = pd.DataFrame(a['data'], columns=a['column_names'])"
   ]
  },
  {
   "cell_type": "code",
   "execution_count": 653,
   "metadata": {},
   "outputs": [
    {
     "data": {
      "text/html": [
       "<div>\n",
       "<style scoped>\n",
       "    .dataframe tbody tr th:only-of-type {\n",
       "        vertical-align: middle;\n",
       "    }\n",
       "\n",
       "    .dataframe tbody tr th {\n",
       "        vertical-align: top;\n",
       "    }\n",
       "\n",
       "    .dataframe thead th {\n",
       "        text-align: right;\n",
       "    }\n",
       "</style>\n",
       "<table border=\"1\" class=\"dataframe\">\n",
       "  <thead>\n",
       "    <tr style=\"text-align: right;\">\n",
       "      <th></th>\n",
       "      <th>Date</th>\n",
       "      <th>Open</th>\n",
       "      <th>High</th>\n",
       "      <th>Low</th>\n",
       "      <th>Close</th>\n",
       "      <th>Volume</th>\n",
       "      <th>Ex-Dividend</th>\n",
       "      <th>Split Ratio</th>\n",
       "      <th>Adj. Open</th>\n",
       "      <th>Adj. High</th>\n",
       "      <th>Adj. Low</th>\n",
       "      <th>Adj. Close</th>\n",
       "      <th>Adj. Volume</th>\n",
       "    </tr>\n",
       "  </thead>\n",
       "  <tbody>\n",
       "    <tr>\n",
       "      <th>0</th>\n",
       "      <td>2018-03-27</td>\n",
       "      <td>1063.00</td>\n",
       "      <td>1064.84</td>\n",
       "      <td>996.92</td>\n",
       "      <td>1005.10</td>\n",
       "      <td>3029471.0</td>\n",
       "      <td>0.0</td>\n",
       "      <td>1.0</td>\n",
       "      <td>1063.00</td>\n",
       "      <td>1064.84</td>\n",
       "      <td>996.92</td>\n",
       "      <td>1005.10</td>\n",
       "      <td>3029471.0</td>\n",
       "    </tr>\n",
       "    <tr>\n",
       "      <th>1</th>\n",
       "      <td>2018-03-26</td>\n",
       "      <td>1046.00</td>\n",
       "      <td>1055.63</td>\n",
       "      <td>1008.40</td>\n",
       "      <td>1053.21</td>\n",
       "      <td>2558385.0</td>\n",
       "      <td>0.0</td>\n",
       "      <td>1.0</td>\n",
       "      <td>1046.00</td>\n",
       "      <td>1055.63</td>\n",
       "      <td>1008.40</td>\n",
       "      <td>1053.21</td>\n",
       "      <td>2558385.0</td>\n",
       "    </tr>\n",
       "    <tr>\n",
       "      <th>2</th>\n",
       "      <td>2018-03-23</td>\n",
       "      <td>1047.03</td>\n",
       "      <td>1063.36</td>\n",
       "      <td>1021.22</td>\n",
       "      <td>1021.57</td>\n",
       "      <td>2113497.0</td>\n",
       "      <td>0.0</td>\n",
       "      <td>1.0</td>\n",
       "      <td>1047.03</td>\n",
       "      <td>1063.36</td>\n",
       "      <td>1021.22</td>\n",
       "      <td>1021.57</td>\n",
       "      <td>2113497.0</td>\n",
       "    </tr>\n",
       "    <tr>\n",
       "      <th>3</th>\n",
       "      <td>2018-03-22</td>\n",
       "      <td>1081.88</td>\n",
       "      <td>1082.90</td>\n",
       "      <td>1045.91</td>\n",
       "      <td>1049.08</td>\n",
       "      <td>2580374.0</td>\n",
       "      <td>0.0</td>\n",
       "      <td>1.0</td>\n",
       "      <td>1081.88</td>\n",
       "      <td>1082.90</td>\n",
       "      <td>1045.91</td>\n",
       "      <td>1049.08</td>\n",
       "      <td>2580374.0</td>\n",
       "    </tr>\n",
       "    <tr>\n",
       "      <th>4</th>\n",
       "      <td>2018-03-21</td>\n",
       "      <td>1092.74</td>\n",
       "      <td>1106.30</td>\n",
       "      <td>1085.15</td>\n",
       "      <td>1090.88</td>\n",
       "      <td>1640709.0</td>\n",
       "      <td>0.0</td>\n",
       "      <td>1.0</td>\n",
       "      <td>1092.74</td>\n",
       "      <td>1106.30</td>\n",
       "      <td>1085.15</td>\n",
       "      <td>1090.88</td>\n",
       "      <td>1640709.0</td>\n",
       "    </tr>\n",
       "  </tbody>\n",
       "</table>\n",
       "</div>"
      ],
      "text/plain": [
       "         Date     Open     High      Low    Close     Volume  Ex-Dividend  \\\n",
       "0  2018-03-27  1063.00  1064.84   996.92  1005.10  3029471.0          0.0   \n",
       "1  2018-03-26  1046.00  1055.63  1008.40  1053.21  2558385.0          0.0   \n",
       "2  2018-03-23  1047.03  1063.36  1021.22  1021.57  2113497.0          0.0   \n",
       "3  2018-03-22  1081.88  1082.90  1045.91  1049.08  2580374.0          0.0   \n",
       "4  2018-03-21  1092.74  1106.30  1085.15  1090.88  1640709.0          0.0   \n",
       "\n",
       "   Split Ratio  Adj. Open  Adj. High  Adj. Low  Adj. Close  Adj. Volume  \n",
       "0          1.0    1063.00    1064.84    996.92     1005.10    3029471.0  \n",
       "1          1.0    1046.00    1055.63   1008.40     1053.21    2558385.0  \n",
       "2          1.0    1047.03    1063.36   1021.22     1021.57    2113497.0  \n",
       "3          1.0    1081.88    1082.90   1045.91     1049.08    2580374.0  \n",
       "4          1.0    1092.74    1106.30   1085.15     1090.88    1640709.0  "
      ]
     },
     "execution_count": 653,
     "metadata": {},
     "output_type": "execute_result"
    }
   ],
   "source": [
    "df1.head()"
   ]
  },
  {
   "cell_type": "code",
   "execution_count": 654,
   "metadata": {},
   "outputs": [],
   "source": [
    "# change the column 'Date' to datetime type\n",
    "df1['Date'] = pd.to_datetime(df1['Date'])\n"
   ]
  },
  {
   "cell_type": "markdown",
   "metadata": {},
   "source": [
    "When you run the code below, the plot will be shown in a new webpage."
   ]
  },
  {
   "cell_type": "code",
   "execution_count": 656,
   "metadata": {},
   "outputs": [],
   "source": [
    "p = figure(title='Stock prices for Google',\n",
    "            x_axis_label='date',\n",
    "            x_axis_type='datetime')\n",
    "        \n",
    "#if request.form.get('Close'):\n",
    "p.line(x=df1['Date'].values, y=df1['Close'].values,line_width=3, legend='Close')\n",
    "#if request.form.get('Adj. Close'):\n",
    "p.line(x=df1['Date'].values, y=df1['Adj. Close'].values,line_width=3, line_color=\"green\", legend='Adj. Close')\n",
    "#if request.form.get('Open'):\n",
    "p.line(x=df1['Date'].values, y=df1['Open'].values,line_width=3, line_color=\"red\", legend='Open')\n",
    "#if request.form.get('Adj. Open'):\n",
    "p.line(x=df1['Date'].values, y=df1['Adj. Open'].values,line_width=3, line_color=\"purple\", legend='Adj. Open')\n",
    "show(p)\n"
   ]
  }
 ],
 "metadata": {
  "kernelspec": {
   "display_name": "Python 3",
   "language": "python",
   "name": "python3"
  },
  "language_info": {
   "codemirror_mode": {
    "name": "ipython",
    "version": 3
   },
   "file_extension": ".py",
   "mimetype": "text/x-python",
   "name": "python",
   "nbconvert_exporter": "python",
   "pygments_lexer": "ipython3",
   "version": "3.7.0"
  }
 },
 "nbformat": 4,
 "nbformat_minor": 2
}
